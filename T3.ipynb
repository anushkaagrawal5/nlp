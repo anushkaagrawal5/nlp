{
  "cells": [
    {
      "cell_type": "code",
      "execution_count": 2,
      "id": "890c9f2f",
      "metadata": {
        "colab": {
          "base_uri": "https://localhost:8080/"
        },
        "id": "890c9f2f",
        "outputId": "673f25ab-15f0-4a0f-ec57-f590b800c400"
      },
      "outputs": [
        {
          "output_type": "stream",
          "name": "stdout",
          "text": [
            "你好 ， 很 高兴 认识 你\n"
          ]
        }
      ],
      "source": [
        "\n",
        "#chinese segmentation using jieba\n",
        "#pip install jieba\n",
        "import jieba\n",
        "seg = jieba.cut('你好，很高兴认识你')\n",
        "print(\" \".join(seg))"
      ]
    }
  ],
  "metadata": {
    "kernelspec": {
      "display_name": "Python 3 (ipykernel)",
      "language": "python",
      "name": "python3"
    },
    "language_info": {
      "codemirror_mode": {
        "name": "ipython",
        "version": 3
      },
      "file_extension": ".py",
      "mimetype": "text/x-python",
      "name": "python",
      "nbconvert_exporter": "python",
      "pygments_lexer": "ipython3",
      "version": "3.9.12"
    },
    "colab": {
      "name": "T3",
      "provenance": []
    }
  },
  "nbformat": 4,
  "nbformat_minor": 5
}